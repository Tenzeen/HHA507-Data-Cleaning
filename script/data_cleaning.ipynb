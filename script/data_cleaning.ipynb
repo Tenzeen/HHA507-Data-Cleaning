{
 "cells": [
  {
   "cell_type": "code",
   "execution_count": 2,
   "metadata": {},
   "outputs": [],
   "source": [
    "#Import necessary packages\n",
    "import pandas as pd\n",
    "import numpy as np\n",
    "import string"
   ]
  },
  {
   "cell_type": "markdown",
   "metadata": {},
   "source": [
    "## 1. Load the data into python\n"
   ]
  },
  {
   "cell_type": "code",
   "execution_count": 5,
   "metadata": {},
   "outputs": [
    {
     "ename": "FileNotFoundError",
     "evalue": "[Errno 2] No such file or directory: 'data/School_Learning_Modalities__2021-2022_20240309.csv'",
     "output_type": "error",
     "traceback": [
      "\u001b[1;31m---------------------------------------------------------------------------\u001b[0m",
      "\u001b[1;31mFileNotFoundError\u001b[0m                         Traceback (most recent call last)",
      "\u001b[1;32md:\\Health Informatics\\HHA507 - Data Science\\Assignments\\Assignment 2 - Data Cleaning\\script\\app1.ipynb Cell 3\u001b[0m line \u001b[0;36m2\n\u001b[0;32m      <a href='vscode-notebook-cell:/d%3A/Health%20Informatics/HHA507%20-%20Data%20Science/Assignments/Assignment%202%20-%20Data%20Cleaning/script/app1.ipynb#W3sZmlsZQ%3D%3D?line=0'>1</a>\u001b[0m \u001b[39m#Load csv file\u001b[39;00m\n\u001b[1;32m----> <a href='vscode-notebook-cell:/d%3A/Health%20Informatics/HHA507%20-%20Data%20Science/Assignments/Assignment%202%20-%20Data%20Cleaning/script/app1.ipynb#W3sZmlsZQ%3D%3D?line=1'>2</a>\u001b[0m pd\u001b[39m.\u001b[39;49mread_csv(\u001b[39m'\u001b[39;49m\u001b[39mdata/School_Learning_Modalities__2021-2022_20240309.csv\u001b[39;49m\u001b[39m'\u001b[39;49m)\n",
      "File \u001b[1;32m~\\AppData\\Roaming\\Python\\Python311\\site-packages\\pandas\\util\\_decorators.py:211\u001b[0m, in \u001b[0;36mdeprecate_kwarg.<locals>._deprecate_kwarg.<locals>.wrapper\u001b[1;34m(*args, **kwargs)\u001b[0m\n\u001b[0;32m    209\u001b[0m     \u001b[39melse\u001b[39;00m:\n\u001b[0;32m    210\u001b[0m         kwargs[new_arg_name] \u001b[39m=\u001b[39m new_arg_value\n\u001b[1;32m--> 211\u001b[0m \u001b[39mreturn\u001b[39;00m func(\u001b[39m*\u001b[39;49margs, \u001b[39m*\u001b[39;49m\u001b[39m*\u001b[39;49mkwargs)\n",
      "File \u001b[1;32m~\\AppData\\Roaming\\Python\\Python311\\site-packages\\pandas\\util\\_decorators.py:331\u001b[0m, in \u001b[0;36mdeprecate_nonkeyword_arguments.<locals>.decorate.<locals>.wrapper\u001b[1;34m(*args, **kwargs)\u001b[0m\n\u001b[0;32m    325\u001b[0m \u001b[39mif\u001b[39;00m \u001b[39mlen\u001b[39m(args) \u001b[39m>\u001b[39m num_allow_args:\n\u001b[0;32m    326\u001b[0m     warnings\u001b[39m.\u001b[39mwarn(\n\u001b[0;32m    327\u001b[0m         msg\u001b[39m.\u001b[39mformat(arguments\u001b[39m=\u001b[39m_format_argument_list(allow_args)),\n\u001b[0;32m    328\u001b[0m         \u001b[39mFutureWarning\u001b[39;00m,\n\u001b[0;32m    329\u001b[0m         stacklevel\u001b[39m=\u001b[39mfind_stack_level(),\n\u001b[0;32m    330\u001b[0m     )\n\u001b[1;32m--> 331\u001b[0m \u001b[39mreturn\u001b[39;00m func(\u001b[39m*\u001b[39;49margs, \u001b[39m*\u001b[39;49m\u001b[39m*\u001b[39;49mkwargs)\n",
      "File \u001b[1;32m~\\AppData\\Roaming\\Python\\Python311\\site-packages\\pandas\\io\\parsers\\readers.py:950\u001b[0m, in \u001b[0;36mread_csv\u001b[1;34m(filepath_or_buffer, sep, delimiter, header, names, index_col, usecols, squeeze, prefix, mangle_dupe_cols, dtype, engine, converters, true_values, false_values, skipinitialspace, skiprows, skipfooter, nrows, na_values, keep_default_na, na_filter, verbose, skip_blank_lines, parse_dates, infer_datetime_format, keep_date_col, date_parser, dayfirst, cache_dates, iterator, chunksize, compression, thousands, decimal, lineterminator, quotechar, quoting, doublequote, escapechar, comment, encoding, encoding_errors, dialect, error_bad_lines, warn_bad_lines, on_bad_lines, delim_whitespace, low_memory, memory_map, float_precision, storage_options)\u001b[0m\n\u001b[0;32m    935\u001b[0m kwds_defaults \u001b[39m=\u001b[39m _refine_defaults_read(\n\u001b[0;32m    936\u001b[0m     dialect,\n\u001b[0;32m    937\u001b[0m     delimiter,\n\u001b[1;32m   (...)\u001b[0m\n\u001b[0;32m    946\u001b[0m     defaults\u001b[39m=\u001b[39m{\u001b[39m\"\u001b[39m\u001b[39mdelimiter\u001b[39m\u001b[39m\"\u001b[39m: \u001b[39m\"\u001b[39m\u001b[39m,\u001b[39m\u001b[39m\"\u001b[39m},\n\u001b[0;32m    947\u001b[0m )\n\u001b[0;32m    948\u001b[0m kwds\u001b[39m.\u001b[39mupdate(kwds_defaults)\n\u001b[1;32m--> 950\u001b[0m \u001b[39mreturn\u001b[39;00m _read(filepath_or_buffer, kwds)\n",
      "File \u001b[1;32m~\\AppData\\Roaming\\Python\\Python311\\site-packages\\pandas\\io\\parsers\\readers.py:605\u001b[0m, in \u001b[0;36m_read\u001b[1;34m(filepath_or_buffer, kwds)\u001b[0m\n\u001b[0;32m    602\u001b[0m _validate_names(kwds\u001b[39m.\u001b[39mget(\u001b[39m\"\u001b[39m\u001b[39mnames\u001b[39m\u001b[39m\"\u001b[39m, \u001b[39mNone\u001b[39;00m))\n\u001b[0;32m    604\u001b[0m \u001b[39m# Create the parser.\u001b[39;00m\n\u001b[1;32m--> 605\u001b[0m parser \u001b[39m=\u001b[39m TextFileReader(filepath_or_buffer, \u001b[39m*\u001b[39;49m\u001b[39m*\u001b[39;49mkwds)\n\u001b[0;32m    607\u001b[0m \u001b[39mif\u001b[39;00m chunksize \u001b[39mor\u001b[39;00m iterator:\n\u001b[0;32m    608\u001b[0m     \u001b[39mreturn\u001b[39;00m parser\n",
      "File \u001b[1;32m~\\AppData\\Roaming\\Python\\Python311\\site-packages\\pandas\\io\\parsers\\readers.py:1442\u001b[0m, in \u001b[0;36mTextFileReader.__init__\u001b[1;34m(self, f, engine, **kwds)\u001b[0m\n\u001b[0;32m   1439\u001b[0m     \u001b[39mself\u001b[39m\u001b[39m.\u001b[39moptions[\u001b[39m\"\u001b[39m\u001b[39mhas_index_names\u001b[39m\u001b[39m\"\u001b[39m] \u001b[39m=\u001b[39m kwds[\u001b[39m\"\u001b[39m\u001b[39mhas_index_names\u001b[39m\u001b[39m\"\u001b[39m]\n\u001b[0;32m   1441\u001b[0m \u001b[39mself\u001b[39m\u001b[39m.\u001b[39mhandles: IOHandles \u001b[39m|\u001b[39m \u001b[39mNone\u001b[39;00m \u001b[39m=\u001b[39m \u001b[39mNone\u001b[39;00m\n\u001b[1;32m-> 1442\u001b[0m \u001b[39mself\u001b[39m\u001b[39m.\u001b[39m_engine \u001b[39m=\u001b[39m \u001b[39mself\u001b[39;49m\u001b[39m.\u001b[39;49m_make_engine(f, \u001b[39mself\u001b[39;49m\u001b[39m.\u001b[39;49mengine)\n",
      "File \u001b[1;32m~\\AppData\\Roaming\\Python\\Python311\\site-packages\\pandas\\io\\parsers\\readers.py:1735\u001b[0m, in \u001b[0;36mTextFileReader._make_engine\u001b[1;34m(self, f, engine)\u001b[0m\n\u001b[0;32m   1733\u001b[0m     \u001b[39mif\u001b[39;00m \u001b[39m\"\u001b[39m\u001b[39mb\u001b[39m\u001b[39m\"\u001b[39m \u001b[39mnot\u001b[39;00m \u001b[39min\u001b[39;00m mode:\n\u001b[0;32m   1734\u001b[0m         mode \u001b[39m+\u001b[39m\u001b[39m=\u001b[39m \u001b[39m\"\u001b[39m\u001b[39mb\u001b[39m\u001b[39m\"\u001b[39m\n\u001b[1;32m-> 1735\u001b[0m \u001b[39mself\u001b[39m\u001b[39m.\u001b[39mhandles \u001b[39m=\u001b[39m get_handle(\n\u001b[0;32m   1736\u001b[0m     f,\n\u001b[0;32m   1737\u001b[0m     mode,\n\u001b[0;32m   1738\u001b[0m     encoding\u001b[39m=\u001b[39;49m\u001b[39mself\u001b[39;49m\u001b[39m.\u001b[39;49moptions\u001b[39m.\u001b[39;49mget(\u001b[39m\"\u001b[39;49m\u001b[39mencoding\u001b[39;49m\u001b[39m\"\u001b[39;49m, \u001b[39mNone\u001b[39;49;00m),\n\u001b[0;32m   1739\u001b[0m     compression\u001b[39m=\u001b[39;49m\u001b[39mself\u001b[39;49m\u001b[39m.\u001b[39;49moptions\u001b[39m.\u001b[39;49mget(\u001b[39m\"\u001b[39;49m\u001b[39mcompression\u001b[39;49m\u001b[39m\"\u001b[39;49m, \u001b[39mNone\u001b[39;49;00m),\n\u001b[0;32m   1740\u001b[0m     memory_map\u001b[39m=\u001b[39;49m\u001b[39mself\u001b[39;49m\u001b[39m.\u001b[39;49moptions\u001b[39m.\u001b[39;49mget(\u001b[39m\"\u001b[39;49m\u001b[39mmemory_map\u001b[39;49m\u001b[39m\"\u001b[39;49m, \u001b[39mFalse\u001b[39;49;00m),\n\u001b[0;32m   1741\u001b[0m     is_text\u001b[39m=\u001b[39;49mis_text,\n\u001b[0;32m   1742\u001b[0m     errors\u001b[39m=\u001b[39;49m\u001b[39mself\u001b[39;49m\u001b[39m.\u001b[39;49moptions\u001b[39m.\u001b[39;49mget(\u001b[39m\"\u001b[39;49m\u001b[39mencoding_errors\u001b[39;49m\u001b[39m\"\u001b[39;49m, \u001b[39m\"\u001b[39;49m\u001b[39mstrict\u001b[39;49m\u001b[39m\"\u001b[39;49m),\n\u001b[0;32m   1743\u001b[0m     storage_options\u001b[39m=\u001b[39;49m\u001b[39mself\u001b[39;49m\u001b[39m.\u001b[39;49moptions\u001b[39m.\u001b[39;49mget(\u001b[39m\"\u001b[39;49m\u001b[39mstorage_options\u001b[39;49m\u001b[39m\"\u001b[39;49m, \u001b[39mNone\u001b[39;49;00m),\n\u001b[0;32m   1744\u001b[0m )\n\u001b[0;32m   1745\u001b[0m \u001b[39massert\u001b[39;00m \u001b[39mself\u001b[39m\u001b[39m.\u001b[39mhandles \u001b[39mis\u001b[39;00m \u001b[39mnot\u001b[39;00m \u001b[39mNone\u001b[39;00m\n\u001b[0;32m   1746\u001b[0m f \u001b[39m=\u001b[39m \u001b[39mself\u001b[39m\u001b[39m.\u001b[39mhandles\u001b[39m.\u001b[39mhandle\n",
      "File \u001b[1;32m~\\AppData\\Roaming\\Python\\Python311\\site-packages\\pandas\\io\\common.py:856\u001b[0m, in \u001b[0;36mget_handle\u001b[1;34m(path_or_buf, mode, encoding, compression, memory_map, is_text, errors, storage_options)\u001b[0m\n\u001b[0;32m    851\u001b[0m \u001b[39melif\u001b[39;00m \u001b[39misinstance\u001b[39m(handle, \u001b[39mstr\u001b[39m):\n\u001b[0;32m    852\u001b[0m     \u001b[39m# Check whether the filename is to be opened in binary mode.\u001b[39;00m\n\u001b[0;32m    853\u001b[0m     \u001b[39m# Binary mode does not support 'encoding' and 'newline'.\u001b[39;00m\n\u001b[0;32m    854\u001b[0m     \u001b[39mif\u001b[39;00m ioargs\u001b[39m.\u001b[39mencoding \u001b[39mand\u001b[39;00m \u001b[39m\"\u001b[39m\u001b[39mb\u001b[39m\u001b[39m\"\u001b[39m \u001b[39mnot\u001b[39;00m \u001b[39min\u001b[39;00m ioargs\u001b[39m.\u001b[39mmode:\n\u001b[0;32m    855\u001b[0m         \u001b[39m# Encoding\u001b[39;00m\n\u001b[1;32m--> 856\u001b[0m         handle \u001b[39m=\u001b[39m \u001b[39mopen\u001b[39;49m(\n\u001b[0;32m    857\u001b[0m             handle,\n\u001b[0;32m    858\u001b[0m             ioargs\u001b[39m.\u001b[39;49mmode,\n\u001b[0;32m    859\u001b[0m             encoding\u001b[39m=\u001b[39;49mioargs\u001b[39m.\u001b[39;49mencoding,\n\u001b[0;32m    860\u001b[0m             errors\u001b[39m=\u001b[39;49merrors,\n\u001b[0;32m    861\u001b[0m             newline\u001b[39m=\u001b[39;49m\u001b[39m\"\u001b[39;49m\u001b[39m\"\u001b[39;49m,\n\u001b[0;32m    862\u001b[0m         )\n\u001b[0;32m    863\u001b[0m     \u001b[39melse\u001b[39;00m:\n\u001b[0;32m    864\u001b[0m         \u001b[39m# Binary mode\u001b[39;00m\n\u001b[0;32m    865\u001b[0m         handle \u001b[39m=\u001b[39m \u001b[39mopen\u001b[39m(handle, ioargs\u001b[39m.\u001b[39mmode)\n",
      "\u001b[1;31mFileNotFoundError\u001b[0m: [Errno 2] No such file or directory: 'data/School_Learning_Modalities__2021-2022_20240309.csv'"
     ]
    }
   ],
   "source": [
    "#Load csv file\n",
    "pd.read_csv('data/School_Learning_Modalities__2021-2022_20240309.csv')"
   ]
  },
  {
   "cell_type": "code",
   "execution_count": 10,
   "metadata": {},
   "outputs": [],
   "source": [
    "#Load csv file into a dataframe\n",
    "df = pd.read_csv('D:\\Health Informatics\\HHA507 - Data Science\\Assignments\\Assignment 2 - Data Cleaning\\School_Learning_Modalities__2021-2022_20240309.csv')"
   ]
  },
  {
   "cell_type": "markdown",
   "metadata": {},
   "source": [
    "## 2. Print the count of columns and rows\n"
   ]
  },
  {
   "cell_type": "code",
   "execution_count": 11,
   "metadata": {},
   "outputs": [
    {
     "data": {
      "text/plain": [
       "(994788, 9)"
      ]
     },
     "execution_count": 11,
     "metadata": {},
     "output_type": "execute_result"
    }
   ],
   "source": [
    "#Display count of rows and columns\n",
    "df.shape"
   ]
  },
  {
   "cell_type": "markdown",
   "metadata": {},
   "source": [
    "#### We see here that the data contains 9 columns and 994788 rows"
   ]
  },
  {
   "cell_type": "markdown",
   "metadata": {},
   "source": [
    "## 3. Provide a print out of the column names\n"
   ]
  },
  {
   "cell_type": "code",
   "execution_count": 12,
   "metadata": {},
   "outputs": [
    {
     "data": {
      "text/plain": [
       "['District NCES ID',\n",
       " 'District Name',\n",
       " 'Week',\n",
       " 'Learning Modality',\n",
       " 'Operational Schools',\n",
       " 'Student Count',\n",
       " 'City',\n",
       " 'State',\n",
       " 'ZIP Code']"
      ]
     },
     "execution_count": 12,
     "metadata": {},
     "output_type": "execute_result"
    }
   ],
   "source": [
    "#Display column names\n",
    "df.columns.values.tolist()"
   ]
  },
  {
   "cell_type": "markdown",
   "metadata": {},
   "source": [
    "## 4. Clean the column names\n"
   ]
  },
  {
   "cell_type": "code",
   "execution_count": 13,
   "metadata": {},
   "outputs": [
    {
     "name": "stderr",
     "output_type": "stream",
     "text": [
      "C:\\Users\\ttsegyal\\AppData\\Local\\Temp\\ipykernel_6772\\2812968162.py:5: FutureWarning: The default value of regex will change from True to False in a future version.\n",
      "  df.columns = df.columns.str.replace('[^A-Za-z0-9]+', '_') #Replace all special characters (that we may not see) with underscore\n"
     ]
    },
    {
     "data": {
      "text/plain": [
       "['district_nces_id',\n",
       " 'district_name',\n",
       " 'week',\n",
       " 'learning_modality',\n",
       " 'operational_schools',\n",
       " 'student_count',\n",
       " 'city',\n",
       " 'state',\n",
       " 'zip_code']"
      ]
     },
     "execution_count": 13,
     "metadata": {},
     "output_type": "execute_result"
    }
   ],
   "source": [
    "#Clean column names\n",
    "df.columns = df.columns.str.strip()  # Remove leading and trailing whitespaces\n",
    "df.columns = df.columns.str.lower()  # Convert to lowercase\n",
    "df.columns = df.columns.str.replace(' ', '_')  # Replace spaces with underscores\n",
    "df.columns = df.columns.str.replace('[^A-Za-z0-9]+', '_') #Replace all special characters (that we may not see) with underscore\n",
    "df.columns.values.tolist()"
   ]
  },
  {
   "cell_type": "code",
   "execution_count": 14,
   "metadata": {},
   "outputs": [
    {
     "data": {
      "text/html": [
       "<div>\n",
       "<style scoped>\n",
       "    .dataframe tbody tr th:only-of-type {\n",
       "        vertical-align: middle;\n",
       "    }\n",
       "\n",
       "    .dataframe tbody tr th {\n",
       "        vertical-align: top;\n",
       "    }\n",
       "\n",
       "    .dataframe thead th {\n",
       "        text-align: right;\n",
       "    }\n",
       "</style>\n",
       "<table border=\"1\" class=\"dataframe\">\n",
       "  <thead>\n",
       "    <tr style=\"text-align: right;\">\n",
       "      <th></th>\n",
       "      <th>district_nces_id</th>\n",
       "      <th>district_name</th>\n",
       "      <th>week</th>\n",
       "      <th>learning_modality</th>\n",
       "      <th>operational_schools</th>\n",
       "      <th>student_count</th>\n",
       "      <th>city</th>\n",
       "      <th>state</th>\n",
       "      <th>zip_code</th>\n",
       "    </tr>\n",
       "  </thead>\n",
       "  <tbody>\n",
       "    <tr>\n",
       "      <th>0</th>\n",
       "      <td>100005</td>\n",
       "      <td>Albertville City</td>\n",
       "      <td>12/25/2022 12:00:00 AM</td>\n",
       "      <td>In Person</td>\n",
       "      <td>6</td>\n",
       "      <td>5824.0</td>\n",
       "      <td>Albertville</td>\n",
       "      <td>AL</td>\n",
       "      <td>35950</td>\n",
       "    </tr>\n",
       "    <tr>\n",
       "      <th>1</th>\n",
       "      <td>100006</td>\n",
       "      <td>Marshall County</td>\n",
       "      <td>12/25/2022 12:00:00 AM</td>\n",
       "      <td>In Person</td>\n",
       "      <td>15</td>\n",
       "      <td>5764.0</td>\n",
       "      <td>Guntersville</td>\n",
       "      <td>AL</td>\n",
       "      <td>35976</td>\n",
       "    </tr>\n",
       "    <tr>\n",
       "      <th>2</th>\n",
       "      <td>100007</td>\n",
       "      <td>Hoover City</td>\n",
       "      <td>12/25/2022 12:00:00 AM</td>\n",
       "      <td>In Person</td>\n",
       "      <td>18</td>\n",
       "      <td>14061.0</td>\n",
       "      <td>Hoover</td>\n",
       "      <td>AL</td>\n",
       "      <td>35243</td>\n",
       "    </tr>\n",
       "    <tr>\n",
       "      <th>3</th>\n",
       "      <td>100008</td>\n",
       "      <td>Madison City</td>\n",
       "      <td>12/25/2022 12:00:00 AM</td>\n",
       "      <td>In Person</td>\n",
       "      <td>11</td>\n",
       "      <td>11695.0</td>\n",
       "      <td>Madison</td>\n",
       "      <td>AL</td>\n",
       "      <td>35758</td>\n",
       "    </tr>\n",
       "    <tr>\n",
       "      <th>4</th>\n",
       "      <td>100011</td>\n",
       "      <td>Leeds City</td>\n",
       "      <td>12/25/2022 12:00:00 AM</td>\n",
       "      <td>In Person</td>\n",
       "      <td>4</td>\n",
       "      <td>2076.0</td>\n",
       "      <td>Leeds</td>\n",
       "      <td>AL</td>\n",
       "      <td>35094</td>\n",
       "    </tr>\n",
       "  </tbody>\n",
       "</table>\n",
       "</div>"
      ],
      "text/plain": [
       "   district_nces_id     district_name                    week  \\\n",
       "0            100005  Albertville City  12/25/2022 12:00:00 AM   \n",
       "1            100006   Marshall County  12/25/2022 12:00:00 AM   \n",
       "2            100007       Hoover City  12/25/2022 12:00:00 AM   \n",
       "3            100008      Madison City  12/25/2022 12:00:00 AM   \n",
       "4            100011        Leeds City  12/25/2022 12:00:00 AM   \n",
       "\n",
       "  learning_modality  operational_schools  student_count          city state  \\\n",
       "0         In Person                    6         5824.0   Albertville    AL   \n",
       "1         In Person                   15         5764.0  Guntersville    AL   \n",
       "2         In Person                   18        14061.0        Hoover    AL   \n",
       "3         In Person                   11        11695.0       Madison    AL   \n",
       "4         In Person                    4         2076.0         Leeds    AL   \n",
       "\n",
       "   zip_code  \n",
       "0     35950  \n",
       "1     35976  \n",
       "2     35243  \n",
       "3     35758  \n",
       "4     35094  "
      ]
     },
     "execution_count": 14,
     "metadata": {},
     "output_type": "execute_result"
    }
   ],
   "source": [
    "#Check work\n",
    "df.head()"
   ]
  },
  {
   "cell_type": "markdown",
   "metadata": {},
   "source": [
    "## 5. Clean the strings that might exist within each column\n"
   ]
  },
  {
   "cell_type": "code",
   "execution_count": 15,
   "metadata": {},
   "outputs": [
    {
     "name": "stderr",
     "output_type": "stream",
     "text": [
      "C:\\Users\\ttsegyal\\AppData\\Local\\Temp\\ipykernel_6772\\3493790585.py:9: FutureWarning: The default value of regex will change from True to False in a future version.\n",
      "  df[col] = df[col].str.replace('[^A-Za-z0-9]+', '_')\n"
     ]
    },
    {
     "data": {
      "text/html": [
       "<div>\n",
       "<style scoped>\n",
       "    .dataframe tbody tr th:only-of-type {\n",
       "        vertical-align: middle;\n",
       "    }\n",
       "\n",
       "    .dataframe tbody tr th {\n",
       "        vertical-align: top;\n",
       "    }\n",
       "\n",
       "    .dataframe thead th {\n",
       "        text-align: right;\n",
       "    }\n",
       "</style>\n",
       "<table border=\"1\" class=\"dataframe\">\n",
       "  <thead>\n",
       "    <tr style=\"text-align: right;\">\n",
       "      <th></th>\n",
       "      <th>district_nces_id</th>\n",
       "      <th>district_name</th>\n",
       "      <th>week</th>\n",
       "      <th>learning_modality</th>\n",
       "      <th>operational_schools</th>\n",
       "      <th>student_count</th>\n",
       "      <th>city</th>\n",
       "      <th>state</th>\n",
       "      <th>zip_code</th>\n",
       "    </tr>\n",
       "  </thead>\n",
       "  <tbody>\n",
       "    <tr>\n",
       "      <th>0</th>\n",
       "      <td>100005</td>\n",
       "      <td>albertville_city</td>\n",
       "      <td>12/25/2022 12:00:00 AM</td>\n",
       "      <td>in_person</td>\n",
       "      <td>6</td>\n",
       "      <td>5824.0</td>\n",
       "      <td>albertville</td>\n",
       "      <td>al</td>\n",
       "      <td>35950</td>\n",
       "    </tr>\n",
       "    <tr>\n",
       "      <th>1</th>\n",
       "      <td>100006</td>\n",
       "      <td>marshall_county</td>\n",
       "      <td>12/25/2022 12:00:00 AM</td>\n",
       "      <td>in_person</td>\n",
       "      <td>15</td>\n",
       "      <td>5764.0</td>\n",
       "      <td>guntersville</td>\n",
       "      <td>al</td>\n",
       "      <td>35976</td>\n",
       "    </tr>\n",
       "    <tr>\n",
       "      <th>2</th>\n",
       "      <td>100007</td>\n",
       "      <td>hoover_city</td>\n",
       "      <td>12/25/2022 12:00:00 AM</td>\n",
       "      <td>in_person</td>\n",
       "      <td>18</td>\n",
       "      <td>14061.0</td>\n",
       "      <td>hoover</td>\n",
       "      <td>al</td>\n",
       "      <td>35243</td>\n",
       "    </tr>\n",
       "    <tr>\n",
       "      <th>3</th>\n",
       "      <td>100008</td>\n",
       "      <td>madison_city</td>\n",
       "      <td>12/25/2022 12:00:00 AM</td>\n",
       "      <td>in_person</td>\n",
       "      <td>11</td>\n",
       "      <td>11695.0</td>\n",
       "      <td>madison</td>\n",
       "      <td>al</td>\n",
       "      <td>35758</td>\n",
       "    </tr>\n",
       "    <tr>\n",
       "      <th>4</th>\n",
       "      <td>100011</td>\n",
       "      <td>leeds_city</td>\n",
       "      <td>12/25/2022 12:00:00 AM</td>\n",
       "      <td>in_person</td>\n",
       "      <td>4</td>\n",
       "      <td>2076.0</td>\n",
       "      <td>leeds</td>\n",
       "      <td>al</td>\n",
       "      <td>35094</td>\n",
       "    </tr>\n",
       "  </tbody>\n",
       "</table>\n",
       "</div>"
      ],
      "text/plain": [
       "   district_nces_id     district_name                    week  \\\n",
       "0            100005  albertville_city  12/25/2022 12:00:00 AM   \n",
       "1            100006   marshall_county  12/25/2022 12:00:00 AM   \n",
       "2            100007       hoover_city  12/25/2022 12:00:00 AM   \n",
       "3            100008      madison_city  12/25/2022 12:00:00 AM   \n",
       "4            100011        leeds_city  12/25/2022 12:00:00 AM   \n",
       "\n",
       "  learning_modality  operational_schools  student_count          city state  \\\n",
       "0         in_person                    6         5824.0   albertville    al   \n",
       "1         in_person                   15         5764.0  guntersville    al   \n",
       "2         in_person                   18        14061.0        hoover    al   \n",
       "3         in_person                   11        11695.0       madison    al   \n",
       "4         in_person                    4         2076.0         leeds    al   \n",
       "\n",
       "   zip_code  \n",
       "0     35950  \n",
       "1     35976  \n",
       "2     35243  \n",
       "3     35758  \n",
       "4     35094  "
      ]
     },
     "execution_count": 15,
     "metadata": {},
     "output_type": "execute_result"
    }
   ],
   "source": [
    "# Clean strings in each column\n",
    "cols = df.select_dtypes(include='object').columns\n",
    "\n",
    "for col in cols:\n",
    "    if col != 'week':  # Exclude 'week' column from operations to maintain datetime format\n",
    "        df[col] = df[col].str.strip() # Remove leading and trailing whitespaces\n",
    "        df[col] = df[col].str.lower() # Convert to lowercase\n",
    "        df[col] = df[col].str.replace(' ', '_') # Replace spaces with underscores\n",
    "        df[col] = df[col].str.replace('[^A-Za-z0-9]+', '_') # Replace all special characters (that we may not see) with underscore\n",
    "\n",
    "df.head()\n"
   ]
  },
  {
   "cell_type": "markdown",
   "metadata": {},
   "source": [
    "## 6. Assesses white space or special characters\n"
   ]
  },
  {
   "cell_type": "code",
   "execution_count": 16,
   "metadata": {},
   "outputs": [
    {
     "name": "stdout",
     "output_type": "stream",
     "text": [
      "        district_name  week  learning_modality   city  state\n",
      "0                True  True               True  False  False\n",
      "1                True  True               True  False  False\n",
      "2                True  True               True  False  False\n",
      "3                True  True               True  False  False\n",
      "4                True  True               True  False  False\n",
      "...               ...   ...                ...    ...    ...\n",
      "994783           True  True               True  False  False\n",
      "994784           True  True               True  False  False\n",
      "994785           True  True              False  False  False\n",
      "994786           True  True               True   True  False\n",
      "994787           True  True               True   True  False\n",
      "\n",
      "[994788 rows x 5 columns]\n",
      "        district_name  week  learning_modality   city  state\n",
      "0               False  True              False  False  False\n",
      "1               False  True              False  False  False\n",
      "2               False  True              False  False  False\n",
      "3               False  True              False  False  False\n",
      "4               False  True              False  False  False\n",
      "...               ...   ...                ...    ...    ...\n",
      "994783          False  True              False  False  False\n",
      "994784          False  True              False  False  False\n",
      "994785          False  True              False  False  False\n",
      "994786          False  True              False  False  False\n",
      "994787          False  True              False  False  False\n",
      "\n",
      "[994788 rows x 5 columns]\n"
     ]
    }
   ],
   "source": [
    "# Assess whitespace and special characters in the data\n",
    "contains_special_chars = df[cols].apply(lambda x: x.str.contains('[^A-Za-z0-9]+')) # Check for special characters\n",
    "contains_whitespace = df[cols].apply(lambda x: x.str.contains(' ')) # Check for whitespace\n",
    "\n",
    "print(contains_special_chars) \n",
    "print(contains_whitespace)"
   ]
  },
  {
   "cell_type": "markdown",
   "metadata": {},
   "source": [
    "## 7. Converts the column types to the correct types"
   ]
  },
  {
   "cell_type": "code",
   "execution_count": 17,
   "metadata": {},
   "outputs": [
    {
     "data": {
      "text/plain": [
       "district_nces_id         int64\n",
       "district_name           object\n",
       "week                    object\n",
       "learning_modality       object\n",
       "operational_schools      int64\n",
       "student_count          float64\n",
       "city                    object\n",
       "state                   object\n",
       "zip_code                 int64\n",
       "dtype: object"
      ]
     },
     "execution_count": 17,
     "metadata": {},
     "output_type": "execute_result"
    }
   ],
   "source": [
    "#Check data types of each column\n",
    "df.dtypes"
   ]
  },
  {
   "cell_type": "markdown",
   "metadata": {},
   "source": [
    "#### Week is in 'object' format, so we must change it to datetime"
   ]
  },
  {
   "cell_type": "code",
   "execution_count": 18,
   "metadata": {},
   "outputs": [
    {
     "data": {
      "text/plain": [
       "district_nces_id                int64\n",
       "district_name                  object\n",
       "week                   datetime64[ns]\n",
       "learning_modality              object\n",
       "operational_schools             int64\n",
       "student_count                 float64\n",
       "city                           object\n",
       "state                          object\n",
       "zip_code                        int64\n",
       "dtype: object"
      ]
     },
     "execution_count": 18,
     "metadata": {},
     "output_type": "execute_result"
    }
   ],
   "source": [
    "#Convert 'week' column to datetime\n",
    "df['week'] = pd.to_datetime(df['week']) # Convert to datetime\n",
    "df.dtypes # Check work"
   ]
  },
  {
   "cell_type": "markdown",
   "metadata": {},
   "source": [
    "## 8. Check for duplicate rows and remove duplicate rows\n"
   ]
  },
  {
   "cell_type": "code",
   "execution_count": 19,
   "metadata": {},
   "outputs": [
    {
     "data": {
      "text/plain": [
       "0         False\n",
       "1         False\n",
       "2         False\n",
       "3         False\n",
       "4         False\n",
       "          ...  \n",
       "994783    False\n",
       "994784    False\n",
       "994785    False\n",
       "994786    False\n",
       "994787    False\n",
       "Length: 994788, dtype: bool"
      ]
     },
     "execution_count": 19,
     "metadata": {},
     "output_type": "execute_result"
    }
   ],
   "source": [
    "#Check for duplicate rows\n",
    "df.duplicated() #check for duplicates"
   ]
  },
  {
   "cell_type": "markdown",
   "metadata": {},
   "source": [
    "#### Seems like there are no duplicate rows, but will run the following code for good measure anyways."
   ]
  },
  {
   "cell_type": "code",
   "execution_count": 20,
   "metadata": {},
   "outputs": [
    {
     "data": {
      "text/html": [
       "<div>\n",
       "<style scoped>\n",
       "    .dataframe tbody tr th:only-of-type {\n",
       "        vertical-align: middle;\n",
       "    }\n",
       "\n",
       "    .dataframe tbody tr th {\n",
       "        vertical-align: top;\n",
       "    }\n",
       "\n",
       "    .dataframe thead th {\n",
       "        text-align: right;\n",
       "    }\n",
       "</style>\n",
       "<table border=\"1\" class=\"dataframe\">\n",
       "  <thead>\n",
       "    <tr style=\"text-align: right;\">\n",
       "      <th></th>\n",
       "      <th>district_nces_id</th>\n",
       "      <th>district_name</th>\n",
       "      <th>week</th>\n",
       "      <th>learning_modality</th>\n",
       "      <th>operational_schools</th>\n",
       "      <th>student_count</th>\n",
       "      <th>city</th>\n",
       "      <th>state</th>\n",
       "      <th>zip_code</th>\n",
       "    </tr>\n",
       "  </thead>\n",
       "  <tbody>\n",
       "    <tr>\n",
       "      <th>0</th>\n",
       "      <td>100005</td>\n",
       "      <td>albertville_city</td>\n",
       "      <td>2022-12-25</td>\n",
       "      <td>in_person</td>\n",
       "      <td>6</td>\n",
       "      <td>5824.0</td>\n",
       "      <td>albertville</td>\n",
       "      <td>al</td>\n",
       "      <td>35950</td>\n",
       "    </tr>\n",
       "    <tr>\n",
       "      <th>1</th>\n",
       "      <td>100006</td>\n",
       "      <td>marshall_county</td>\n",
       "      <td>2022-12-25</td>\n",
       "      <td>in_person</td>\n",
       "      <td>15</td>\n",
       "      <td>5764.0</td>\n",
       "      <td>guntersville</td>\n",
       "      <td>al</td>\n",
       "      <td>35976</td>\n",
       "    </tr>\n",
       "    <tr>\n",
       "      <th>2</th>\n",
       "      <td>100007</td>\n",
       "      <td>hoover_city</td>\n",
       "      <td>2022-12-25</td>\n",
       "      <td>in_person</td>\n",
       "      <td>18</td>\n",
       "      <td>14061.0</td>\n",
       "      <td>hoover</td>\n",
       "      <td>al</td>\n",
       "      <td>35243</td>\n",
       "    </tr>\n",
       "    <tr>\n",
       "      <th>3</th>\n",
       "      <td>100008</td>\n",
       "      <td>madison_city</td>\n",
       "      <td>2022-12-25</td>\n",
       "      <td>in_person</td>\n",
       "      <td>11</td>\n",
       "      <td>11695.0</td>\n",
       "      <td>madison</td>\n",
       "      <td>al</td>\n",
       "      <td>35758</td>\n",
       "    </tr>\n",
       "    <tr>\n",
       "      <th>4</th>\n",
       "      <td>100011</td>\n",
       "      <td>leeds_city</td>\n",
       "      <td>2022-12-25</td>\n",
       "      <td>in_person</td>\n",
       "      <td>4</td>\n",
       "      <td>2076.0</td>\n",
       "      <td>leeds</td>\n",
       "      <td>al</td>\n",
       "      <td>35094</td>\n",
       "    </tr>\n",
       "    <tr>\n",
       "      <th>...</th>\n",
       "      <td>...</td>\n",
       "      <td>...</td>\n",
       "      <td>...</td>\n",
       "      <td>...</td>\n",
       "      <td>...</td>\n",
       "      <td>...</td>\n",
       "      <td>...</td>\n",
       "      <td>...</td>\n",
       "      <td>...</td>\n",
       "    </tr>\n",
       "    <tr>\n",
       "      <th>994783</th>\n",
       "      <td>5900187</td>\n",
       "      <td>hannahville_indian_school</td>\n",
       "      <td>2021-08-01</td>\n",
       "      <td>in_person</td>\n",
       "      <td>1</td>\n",
       "      <td>163.0</td>\n",
       "      <td>wilson</td>\n",
       "      <td>bi</td>\n",
       "      <td>49896</td>\n",
       "    </tr>\n",
       "    <tr>\n",
       "      <th>994784</th>\n",
       "      <td>5900190</td>\n",
       "      <td>tiospaye_topa_school</td>\n",
       "      <td>2021-08-01</td>\n",
       "      <td>in_person</td>\n",
       "      <td>1</td>\n",
       "      <td>157.0</td>\n",
       "      <td>laplant</td>\n",
       "      <td>bi</td>\n",
       "      <td>57652</td>\n",
       "    </tr>\n",
       "    <tr>\n",
       "      <th>994785</th>\n",
       "      <td>5900193</td>\n",
       "      <td>seba_dalkai_boarding_school</td>\n",
       "      <td>2021-08-01</td>\n",
       "      <td>hybrid</td>\n",
       "      <td>1</td>\n",
       "      <td>65.0</td>\n",
       "      <td>winslow</td>\n",
       "      <td>bi</td>\n",
       "      <td>86047</td>\n",
       "    </tr>\n",
       "    <tr>\n",
       "      <th>994786</th>\n",
       "      <td>5900197</td>\n",
       "      <td>noli_school</td>\n",
       "      <td>2021-08-01</td>\n",
       "      <td>in_person</td>\n",
       "      <td>1</td>\n",
       "      <td>123.0</td>\n",
       "      <td>san_jacinto</td>\n",
       "      <td>bi</td>\n",
       "      <td>92581</td>\n",
       "    </tr>\n",
       "    <tr>\n",
       "      <th>994787</th>\n",
       "      <td>7200030</td>\n",
       "      <td>puerto_rico_department_of_education</td>\n",
       "      <td>2021-08-01</td>\n",
       "      <td>in_person</td>\n",
       "      <td>849</td>\n",
       "      <td>292518.0</td>\n",
       "      <td>hato_rey</td>\n",
       "      <td>pr</td>\n",
       "      <td>919</td>\n",
       "    </tr>\n",
       "  </tbody>\n",
       "</table>\n",
       "<p>994788 rows × 9 columns</p>\n",
       "</div>"
      ],
      "text/plain": [
       "        district_nces_id                        district_name       week  \\\n",
       "0                 100005                     albertville_city 2022-12-25   \n",
       "1                 100006                      marshall_county 2022-12-25   \n",
       "2                 100007                          hoover_city 2022-12-25   \n",
       "3                 100008                         madison_city 2022-12-25   \n",
       "4                 100011                           leeds_city 2022-12-25   \n",
       "...                  ...                                  ...        ...   \n",
       "994783           5900187            hannahville_indian_school 2021-08-01   \n",
       "994784           5900190                 tiospaye_topa_school 2021-08-01   \n",
       "994785           5900193          seba_dalkai_boarding_school 2021-08-01   \n",
       "994786           5900197                          noli_school 2021-08-01   \n",
       "994787           7200030  puerto_rico_department_of_education 2021-08-01   \n",
       "\n",
       "       learning_modality  operational_schools  student_count          city  \\\n",
       "0              in_person                    6         5824.0   albertville   \n",
       "1              in_person                   15         5764.0  guntersville   \n",
       "2              in_person                   18        14061.0        hoover   \n",
       "3              in_person                   11        11695.0       madison   \n",
       "4              in_person                    4         2076.0         leeds   \n",
       "...                  ...                  ...            ...           ...   \n",
       "994783         in_person                    1          163.0        wilson   \n",
       "994784         in_person                    1          157.0       laplant   \n",
       "994785            hybrid                    1           65.0       winslow   \n",
       "994786         in_person                    1          123.0   san_jacinto   \n",
       "994787         in_person                  849       292518.0      hato_rey   \n",
       "\n",
       "       state  zip_code  \n",
       "0         al     35950  \n",
       "1         al     35976  \n",
       "2         al     35243  \n",
       "3         al     35758  \n",
       "4         al     35094  \n",
       "...      ...       ...  \n",
       "994783    bi     49896  \n",
       "994784    bi     57652  \n",
       "994785    bi     86047  \n",
       "994786    bi     92581  \n",
       "994787    pr       919  \n",
       "\n",
       "[994788 rows x 9 columns]"
      ]
     },
     "execution_count": 20,
     "metadata": {},
     "output_type": "execute_result"
    }
   ],
   "source": [
    "#Remove duplicate rows\n",
    "df.drop_duplicates()"
   ]
  },
  {
   "cell_type": "markdown",
   "metadata": {},
   "source": [
    "## 9. Assess missingness (count of missing values per column)\n",
    " "
   ]
  },
  {
   "cell_type": "code",
   "execution_count": 21,
   "metadata": {},
   "outputs": [
    {
     "data": {
      "text/plain": [
       "district_nces_id          0\n",
       "district_name             0\n",
       "week                      0\n",
       "learning_modality         0\n",
       "operational_schools       0\n",
       "student_count          1015\n",
       "city                      0\n",
       "state                     0\n",
       "zip_code                  0\n",
       "dtype: int64"
      ]
     },
     "execution_count": 21,
     "metadata": {},
     "output_type": "execute_result"
    }
   ],
   "source": [
    "#Check for missing values\n",
    "df.isnull().sum()\n"
   ]
  },
  {
   "cell_type": "markdown",
   "metadata": {},
   "source": [
    "#### The student_count column contains missing values so we will replace those empty cells with 'NaN'"
   ]
  },
  {
   "cell_type": "code",
   "execution_count": 22,
   "metadata": {},
   "outputs": [],
   "source": [
    "#replace empty cells with nan \n",
    "df.replace(to_replace='', value=np.nan, inplace=True) "
   ]
  },
  {
   "cell_type": "markdown",
   "metadata": {},
   "source": [
    "#### Now we will check if the changes went through"
   ]
  },
  {
   "cell_type": "code",
   "execution_count": 23,
   "metadata": {},
   "outputs": [
    {
     "name": "stdout",
     "output_type": "stream",
     "text": [
      "                                           district_name  student_count\n",
      "325     legacy_traditional_school_north_phoenix_1000568_            NaN\n",
      "1884                            sussex_montessori_school            NaN\n",
      "3788               warren_easton_charter_foundation_inc_            NaN\n",
      "4915                      three_rivers_montessori_school            NaN\n",
      "4917                           rock_ridge_public_schools            NaN\n",
      "...                                                  ...            ...\n",
      "989909                     brilla_caritas_charter_school            NaN\n",
      "989910                         brilla_pax_charter_school            NaN\n",
      "990602                       achievement_charter_academy            NaN\n",
      "990899                 central_point_preparatory_academy            NaN\n",
      "992915                    promesa_academy_charter_school            NaN\n",
      "\n",
      "[1015 rows x 2 columns]\n"
     ]
    }
   ],
   "source": [
    "# Check if missing values were replaced with NaN\n",
    "missing_values = df['student_count'].isnull()\n",
    "\n",
    "# Display the rows where there are missing values in the 'student_count' column\n",
    "missing_df = df.loc[missing_values, ['district_name', 'student_count']]\n",
    "print(missing_df)\n"
   ]
  },
  {
   "cell_type": "markdown",
   "metadata": {},
   "source": [
    "## 10. New data field: attempt to create a new column called modality_inperson. This column should contain a binary value of true or false. "
   ]
  },
  {
   "cell_type": "code",
   "execution_count": 24,
   "metadata": {},
   "outputs": [],
   "source": [
    "#Create new column called modality_inperson. This column contains a binary value of true or false\n",
    "df['modality_inperson'] = (df['learning_modality'].apply(lambda x: 'true' if x == 'in_person' else 'false'))"
   ]
  },
  {
   "cell_type": "code",
   "execution_count": 25,
   "metadata": {},
   "outputs": [
    {
     "data": {
      "text/plain": [
       "true     986119\n",
       "false      8669\n",
       "Name: modality_inperson, dtype: int64"
      ]
     },
     "execution_count": 25,
     "metadata": {},
     "output_type": "execute_result"
    }
   ],
   "source": [
    "#Check the count of each value in the new column and if changes went through\n",
    "df['modality_inperson'].value_counts()"
   ]
  },
  {
   "cell_type": "code",
   "execution_count": 26,
   "metadata": {},
   "outputs": [
    {
     "data": {
      "text/html": [
       "<div>\n",
       "<style scoped>\n",
       "    .dataframe tbody tr th:only-of-type {\n",
       "        vertical-align: middle;\n",
       "    }\n",
       "\n",
       "    .dataframe tbody tr th {\n",
       "        vertical-align: top;\n",
       "    }\n",
       "\n",
       "    .dataframe thead th {\n",
       "        text-align: right;\n",
       "    }\n",
       "</style>\n",
       "<table border=\"1\" class=\"dataframe\">\n",
       "  <thead>\n",
       "    <tr style=\"text-align: right;\">\n",
       "      <th></th>\n",
       "      <th>district_nces_id</th>\n",
       "      <th>district_name</th>\n",
       "      <th>week</th>\n",
       "      <th>learning_modality</th>\n",
       "      <th>operational_schools</th>\n",
       "      <th>student_count</th>\n",
       "      <th>city</th>\n",
       "      <th>state</th>\n",
       "      <th>zip_code</th>\n",
       "      <th>modality_inperson</th>\n",
       "    </tr>\n",
       "  </thead>\n",
       "  <tbody>\n",
       "    <tr>\n",
       "      <th>0</th>\n",
       "      <td>100005</td>\n",
       "      <td>albertville_city</td>\n",
       "      <td>2022-12-25</td>\n",
       "      <td>in_person</td>\n",
       "      <td>6</td>\n",
       "      <td>5824.0</td>\n",
       "      <td>albertville</td>\n",
       "      <td>al</td>\n",
       "      <td>35950</td>\n",
       "      <td>true</td>\n",
       "    </tr>\n",
       "    <tr>\n",
       "      <th>1</th>\n",
       "      <td>100006</td>\n",
       "      <td>marshall_county</td>\n",
       "      <td>2022-12-25</td>\n",
       "      <td>in_person</td>\n",
       "      <td>15</td>\n",
       "      <td>5764.0</td>\n",
       "      <td>guntersville</td>\n",
       "      <td>al</td>\n",
       "      <td>35976</td>\n",
       "      <td>true</td>\n",
       "    </tr>\n",
       "    <tr>\n",
       "      <th>2</th>\n",
       "      <td>100007</td>\n",
       "      <td>hoover_city</td>\n",
       "      <td>2022-12-25</td>\n",
       "      <td>in_person</td>\n",
       "      <td>18</td>\n",
       "      <td>14061.0</td>\n",
       "      <td>hoover</td>\n",
       "      <td>al</td>\n",
       "      <td>35243</td>\n",
       "      <td>true</td>\n",
       "    </tr>\n",
       "    <tr>\n",
       "      <th>3</th>\n",
       "      <td>100008</td>\n",
       "      <td>madison_city</td>\n",
       "      <td>2022-12-25</td>\n",
       "      <td>in_person</td>\n",
       "      <td>11</td>\n",
       "      <td>11695.0</td>\n",
       "      <td>madison</td>\n",
       "      <td>al</td>\n",
       "      <td>35758</td>\n",
       "      <td>true</td>\n",
       "    </tr>\n",
       "    <tr>\n",
       "      <th>4</th>\n",
       "      <td>100011</td>\n",
       "      <td>leeds_city</td>\n",
       "      <td>2022-12-25</td>\n",
       "      <td>in_person</td>\n",
       "      <td>4</td>\n",
       "      <td>2076.0</td>\n",
       "      <td>leeds</td>\n",
       "      <td>al</td>\n",
       "      <td>35094</td>\n",
       "      <td>true</td>\n",
       "    </tr>\n",
       "    <tr>\n",
       "      <th>5</th>\n",
       "      <td>100012</td>\n",
       "      <td>boaz_city</td>\n",
       "      <td>2022-12-25</td>\n",
       "      <td>in_person</td>\n",
       "      <td>5</td>\n",
       "      <td>2440.0</td>\n",
       "      <td>boaz</td>\n",
       "      <td>al</td>\n",
       "      <td>35957</td>\n",
       "      <td>true</td>\n",
       "    </tr>\n",
       "    <tr>\n",
       "      <th>6</th>\n",
       "      <td>100030</td>\n",
       "      <td>alexander_city</td>\n",
       "      <td>2022-12-25</td>\n",
       "      <td>in_person</td>\n",
       "      <td>5</td>\n",
       "      <td>3036.0</td>\n",
       "      <td>alexander_city</td>\n",
       "      <td>al</td>\n",
       "      <td>35010</td>\n",
       "      <td>true</td>\n",
       "    </tr>\n",
       "    <tr>\n",
       "      <th>7</th>\n",
       "      <td>100060</td>\n",
       "      <td>andalusia_city</td>\n",
       "      <td>2022-12-25</td>\n",
       "      <td>in_person</td>\n",
       "      <td>3</td>\n",
       "      <td>1839.0</td>\n",
       "      <td>andalusia</td>\n",
       "      <td>al</td>\n",
       "      <td>36421</td>\n",
       "      <td>true</td>\n",
       "    </tr>\n",
       "    <tr>\n",
       "      <th>8</th>\n",
       "      <td>100100</td>\n",
       "      <td>arab_city</td>\n",
       "      <td>2022-12-25</td>\n",
       "      <td>in_person</td>\n",
       "      <td>4</td>\n",
       "      <td>2696.0</td>\n",
       "      <td>arab</td>\n",
       "      <td>al</td>\n",
       "      <td>35016</td>\n",
       "      <td>true</td>\n",
       "    </tr>\n",
       "    <tr>\n",
       "      <th>9</th>\n",
       "      <td>100120</td>\n",
       "      <td>athens_city</td>\n",
       "      <td>2022-12-25</td>\n",
       "      <td>in_person</td>\n",
       "      <td>8</td>\n",
       "      <td>4505.0</td>\n",
       "      <td>athens</td>\n",
       "      <td>al</td>\n",
       "      <td>35611</td>\n",
       "      <td>true</td>\n",
       "    </tr>\n",
       "  </tbody>\n",
       "</table>\n",
       "</div>"
      ],
      "text/plain": [
       "   district_nces_id     district_name       week learning_modality  \\\n",
       "0            100005  albertville_city 2022-12-25         in_person   \n",
       "1            100006   marshall_county 2022-12-25         in_person   \n",
       "2            100007       hoover_city 2022-12-25         in_person   \n",
       "3            100008      madison_city 2022-12-25         in_person   \n",
       "4            100011        leeds_city 2022-12-25         in_person   \n",
       "5            100012         boaz_city 2022-12-25         in_person   \n",
       "6            100030    alexander_city 2022-12-25         in_person   \n",
       "7            100060    andalusia_city 2022-12-25         in_person   \n",
       "8            100100         arab_city 2022-12-25         in_person   \n",
       "9            100120       athens_city 2022-12-25         in_person   \n",
       "\n",
       "   operational_schools  student_count            city state  zip_code  \\\n",
       "0                    6         5824.0     albertville    al     35950   \n",
       "1                   15         5764.0    guntersville    al     35976   \n",
       "2                   18        14061.0          hoover    al     35243   \n",
       "3                   11        11695.0         madison    al     35758   \n",
       "4                    4         2076.0           leeds    al     35094   \n",
       "5                    5         2440.0            boaz    al     35957   \n",
       "6                    5         3036.0  alexander_city    al     35010   \n",
       "7                    3         1839.0       andalusia    al     36421   \n",
       "8                    4         2696.0            arab    al     35016   \n",
       "9                    8         4505.0          athens    al     35611   \n",
       "\n",
       "  modality_inperson  \n",
       "0              true  \n",
       "1              true  \n",
       "2              true  \n",
       "3              true  \n",
       "4              true  \n",
       "5              true  \n",
       "6              true  \n",
       "7              true  \n",
       "8              true  \n",
       "9              true  "
      ]
     },
     "execution_count": 26,
     "metadata": {},
     "output_type": "execute_result"
    }
   ],
   "source": [
    "#Check work\n",
    "df.head(10)"
   ]
  },
  {
   "cell_type": "code",
   "execution_count": null,
   "metadata": {},
   "outputs": [],
   "source": [
    "#Save cleaned version\n",
    "df.to_csv('data/School_Learning_Modalities.csv')"
   ]
  }
 ],
 "metadata": {
  "kernelspec": {
   "display_name": "Python 3",
   "language": "python",
   "name": "python3"
  },
  "language_info": {
   "codemirror_mode": {
    "name": "ipython",
    "version": 3
   },
   "file_extension": ".py",
   "mimetype": "text/x-python",
   "name": "python",
   "nbconvert_exporter": "python",
   "pygments_lexer": "ipython3",
   "version": "3.11.1"
  },
  "orig_nbformat": 4
 },
 "nbformat": 4,
 "nbformat_minor": 2
}
